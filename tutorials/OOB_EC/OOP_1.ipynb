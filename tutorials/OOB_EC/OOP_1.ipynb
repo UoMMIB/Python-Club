{
 "cells": [
  {
   "cell_type": "markdown",
   "metadata": {},
   "source": [
    "## Introduction to OOP in Python, Part 1\n",
    "An Object is a type of data structure that contains both attributes (or properties) and methods - essentially functions that act upon the object's attributes. Attributes themselves can be other objects of the same or different class. A class definition is basically the template for object's attributes and methods. A specific object is said to be an instance of its class."
   ]
  },
  {
   "attachments": {
    "120c4f94-e050-4313-88d8-50cccea884a7.png": {
     "image/png": "[encoded data removed]"
    }
   },
   "cell_type": "markdown",
   "metadata": {},
   "source": [
    "The task we will set ourselves is to build Python classes that enable us to represent algebraic expression trees, for example, $ ((5 + z) / -8) * (4 ^ 2) $ is represented as: \n",
    "\n",
    "![image.png](attachment:120c4f94-e050-4313-88d8-50cccea884a7.png)\n",
    "\n",
    "From Wikipedia : https://en.wikipedia.org/wiki/Binary_expression_tree\n",
    "\n",
    "We may go on to see how we can use such trees for *Evolutionary Computing* in later tutorial set."
   ]
  },
  {
   "cell_type": "code",
   "execution_count": 1,
   "metadata": {},
   "outputs": [],
   "source": [
    "class TreeNode:\n",
    "    \"\"\"\n",
    "Using a binary tree structure as an example; where a tree is composed of nodes that may have zero, one or two child nodes.\n",
    "the class represents one node of the tree.\n",
    "    \"\"\"\n",
    "    def __init__(self,name,parent=None):\n",
    "        self.name = name\n",
    "        self.left = None\n",
    "        self.right = None\n",
    "        self.parent = parent #we keep track of the parent node so that we can traverse the tree in reverse\n",
    "        self.myValue = 42\n",
    "\n",
    "    def value(self): #an example method that doesn't really do much!\n",
    "        return self.myValue\n"
   ]
  },
  {
   "cell_type": "markdown",
   "metadata": {},
   "source": [
    "Function names that begin and end with double underscore are used by Python to define a *protocol*<sup>1</sup>;\n",
    "in this case `__init__` is part of the class protocol and defines how a specific instance of the new\n",
    "class will be initialized, and is called automatically when you use a statement like:\n",
    "\n",
    "```python\n",
    "myTN = TreeNode('My name is Joe')\n",
    "```\n",
    "    \n",
    "The first argument, conventionally called 'self', refers to the specific instance of the object, and is required for all instance methods; it is automatically filled-in when methods are called using 'dot' notation:\n",
    "\n",
    "```python\n",
    "myTN.value()\n",
    "```\n",
    "\n",
    "Notice that the multi-line comment following the class definition will become the class's \"Doc-String\".\n",
    "\n",
    "Instances of above class have five properties: **name, left, right, parent** and **myValue**. We may also think of instances of the class as *containing* these five objects.\n",
    "\n",
    "The instances also has one *user* method: `value()` and one *internal* method: `__init__()`"
   ]
  },
  {
   "cell_type": "markdown",
   "metadata": {},
   "source": [
    "1: Object oriented languages such as **Java** use the concept of *Interfaces* that define attributes and methods that *must* be implemented; **Python** is less formal in that you define only what you need."
   ]
  },
  {
   "cell_type": "code",
   "execution_count": 2,
   "metadata": {},
   "outputs": [
    {
     "data": {
      "text/plain": [
       "\u001b[1;31mInit signature:\u001b[0m \u001b[0mTreeNode\u001b[0m\u001b[1;33m(\u001b[0m\u001b[0mname\u001b[0m\u001b[1;33m,\u001b[0m \u001b[0mparent\u001b[0m\u001b[1;33m=\u001b[0m\u001b[1;32mNone\u001b[0m\u001b[1;33m)\u001b[0m\u001b[1;33m\u001b[0m\u001b[1;33m\u001b[0m\u001b[0m\n",
       "\u001b[1;31mDocstring:\u001b[0m     \n",
       "Using a binary tree structure as an example; where a tree is composed of nodes that may have zero, one or two child nodes.\n",
       "the class represents one node of the tree.\n",
       "    \n",
       "\u001b[1;31mType:\u001b[0m           type\n",
       "\u001b[1;31mSubclasses:\u001b[0m     \n"
      ]
     },
     "metadata": {},
     "output_type": "display_data"
    }
   ],
   "source": [
    "?TreeNode"
   ]
  },
  {
   "cell_type": "code",
   "execution_count": 3,
   "metadata": {},
   "outputs": [
    {
     "name": "stdout",
     "output_type": "stream",
     "text": [
      "<__main__.TreeNode object at 0x000002092B848608>\n"
     ]
    }
   ],
   "source": [
    "#let's try our new class\n",
    "nd1 = TreeNode('Root')\n",
    "nd1.left = TreeNode('left')\n",
    "nd1.right = TreeNode('right')\n",
    "print(nd1)"
   ]
  },
  {
   "cell_type": "markdown",
   "metadata": {},
   "source": [
    "Not particularly useful! Let's fix that.\n",
    "`__str__` is the protocol for defining how an object will print or be represented as a string.\n",
    "Let's redefine our class..."
   ]
  },
  {
   "cell_type": "code",
   "execution_count": 4,
   "metadata": {},
   "outputs": [],
   "source": [
    "class TreeNode:\n",
    "    \"\"\"\n",
    "Using a binary tree structure as an example; where a tree is composed of nodes that may have zero, one or two child nodes.\n",
    "the class represents one node of the tree.\n",
    "    \"\"\"\n",
    "    def __init__(self,name,parent=None):\n",
    "        self.name = name\n",
    "        self.left = None\n",
    "        self.right = None\n",
    "        self.parent = parent #we keep track of the parent node so that we can traverse the tree in reverse\n",
    "        self.myValue = 42\n",
    "\n",
    "    def value(self): #an example method that doesn't really do much!\n",
    "        return self.myValue\n",
    "    \n",
    "    def __str__(self):\n",
    "        s = self.name\n",
    "        if self.left and self.right:\n",
    "            return s+'['+str(self.left)+','+str(self.right)+']'\n",
    "        if self.left:\n",
    "            return s+'['+str(self.left)+']'\n",
    "        if self.right:\n",
    "            return s+'['+str(self.right)+']'\n",
    "        return s\n"
   ]
  },
  {
   "cell_type": "markdown",
   "metadata": {},
   "source": [
    "Notice that we are using `__str__` recursively as as the `str` function calls `__str__` -- we we frequently make use of recursive functions when dealing with trees"
   ]
  },
  {
   "cell_type": "code",
   "execution_count": 5,
   "metadata": {},
   "outputs": [
    {
     "name": "stdout",
     "output_type": "stream",
     "text": [
      "Root[left,right]\n"
     ]
    }
   ],
   "source": [
    "nd1 = TreeNode('Root')\n",
    "nd1.left = TreeNode('left')\n",
    "nd1.right = TreeNode('right')\n",
    "print(nd1)"
   ]
  },
  {
   "cell_type": "markdown",
   "metadata": {},
   "source": [
    "The `value` method is really acting as an alias for the `myValue` property, it would be nice if we could just access it like any other property. We can do this with the `@property` decorator. A decorator is a function that modifies the behaviour of the method or function that follows it. In this case it allow us to access the `value` method as if it was a property rather than a method, e.g. `nd1.value` instead of `nd1.value()`"
   ]
  },
  {
   "cell_type": "code",
   "execution_count": 6,
   "metadata": {},
   "outputs": [],
   "source": [
    "class TreeNode:\n",
    "    \"\"\"\n",
    "Using a binary tree structure as an example; where a tree is composed of nodes that may have zero, one or two child nodes.\n",
    "the class represents one node of the tree.\n",
    "    \"\"\"\n",
    "    def __init__(self,name,parent=None):\n",
    "        self.name = name\n",
    "        self.left = None\n",
    "        self.right = None\n",
    "        self.parent = parent #we keep track of the parent node so that we can traverse the tree in reverse\n",
    "        self.myValue = 42\n",
    "\n",
    "    @property\n",
    "    def value(self): #an example method that doesn't really do much!\n",
    "        return self.myValue\n",
    "    \n",
    "    def __str__(self):\n",
    "        s = self.name\n",
    "        if self.left and self.right:\n",
    "            return s+'['+str(self.left)+','+str(self.right)+']'\n",
    "        if self.left:\n",
    "            return s+'['+str(self.left)+']'\n",
    "        if self.right:\n",
    "            return s+'['+str(self.right)+']'\n",
    "        return s\n"
   ]
  },
  {
   "cell_type": "code",
   "execution_count": 7,
   "metadata": {},
   "outputs": [
    {
     "name": "stdout",
     "output_type": "stream",
     "text": [
      "Root[left,right]\n"
     ]
    },
    {
     "ename": "AttributeError",
     "evalue": "can't set attribute",
     "output_type": "error",
     "traceback": [
      "\u001b[1;31m---------------------------------------------------------------------------\u001b[0m",
      "\u001b[1;31mAttributeError\u001b[0m                            Traceback (most recent call last)",
      "\u001b[1;32m<ipython-input-7-60bfad6e02f8>\u001b[0m in \u001b[0;36m<module>\u001b[1;34m\u001b[0m\n\u001b[0;32m      3\u001b[0m \u001b[0mnd1\u001b[0m\u001b[1;33m.\u001b[0m\u001b[0mright\u001b[0m \u001b[1;33m=\u001b[0m \u001b[0mTreeNode\u001b[0m\u001b[1;33m(\u001b[0m\u001b[1;34m'right'\u001b[0m\u001b[1;33m)\u001b[0m\u001b[1;33m\u001b[0m\u001b[1;33m\u001b[0m\u001b[0m\n\u001b[0;32m      4\u001b[0m \u001b[0mprint\u001b[0m\u001b[1;33m(\u001b[0m\u001b[0mnd1\u001b[0m\u001b[1;33m)\u001b[0m\u001b[1;33m\u001b[0m\u001b[1;33m\u001b[0m\u001b[0m\n\u001b[1;32m----> 5\u001b[1;33m \u001b[0mnd1\u001b[0m\u001b[1;33m.\u001b[0m\u001b[0mvalue\u001b[0m \u001b[1;33m=\u001b[0m \u001b[1;34m'albertross'\u001b[0m\u001b[1;33m\u001b[0m\u001b[1;33m\u001b[0m\u001b[0m\n\u001b[0m",
      "\u001b[1;31mAttributeError\u001b[0m: can't set attribute"
     ]
    }
   ],
   "source": [
    "nd1 = TreeNode('Root')\n",
    "nd1.left = TreeNode('left')\n",
    "nd1.right = TreeNode('right')\n",
    "print(nd1)\n",
    "nd1.value = 'albertross'"
   ]
  },
  {
   "cell_type": "markdown",
   "metadata": {},
   "source": [
    "Property methods are useful for properties that are calculated 'on-the-fly'; we will see later that they can also be used for data validation.\n",
    "\n",
    "Notice that we are unable to assign a value using the name.\n",
    "\n",
    "We will see how to overcome this later.\n",
    "\n",
    "Although we can still use `myValue`"
   ]
  },
  {
   "cell_type": "code",
   "execution_count": 8,
   "metadata": {},
   "outputs": [
    {
     "name": "stdout",
     "output_type": "stream",
     "text": [
      "Value:  albertross\n"
     ]
    }
   ],
   "source": [
    "nd1.myValue = 'albertross'\n",
    "print('Value: ',nd1.value)"
   ]
  },
  {
   "cell_type": "markdown",
   "metadata": {},
   "source": [
    "Unlike C++ or Java, Python does not strongly enforce the OOP concept of private or public attributes and methods, however, the naming convention is that attributes and methods whose name starts with underscore are _protected_, and those starting with double-underscore are _private_."
   ]
  },
  {
   "cell_type": "markdown",
   "metadata": {},
   "source": [
    "The bevaviour of private properties may seem rather peculiar!"
   ]
  },
  {
   "cell_type": "code",
   "execution_count": 9,
   "metadata": {},
   "outputs": [
    {
     "ename": "AttributeError",
     "evalue": "'Test' object has no attribute '__private'",
     "output_type": "error",
     "traceback": [
      "\u001b[1;31m---------------------------------------------------------------------------\u001b[0m",
      "\u001b[1;31mAttributeError\u001b[0m                            Traceback (most recent call last)",
      "\u001b[1;32m<ipython-input-9-29faacb143f9>\u001b[0m in \u001b[0;36m<module>\u001b[1;34m\u001b[0m\n\u001b[0;32m      6\u001b[0m \u001b[0mtst\u001b[0m \u001b[1;33m=\u001b[0m \u001b[0mTest\u001b[0m\u001b[1;33m(\u001b[0m\u001b[1;33m)\u001b[0m\u001b[1;33m\u001b[0m\u001b[1;33m\u001b[0m\u001b[0m\n\u001b[0;32m      7\u001b[0m \u001b[1;33m\u001b[0m\u001b[0m\n\u001b[1;32m----> 8\u001b[1;33m \u001b[0mtst\u001b[0m\u001b[1;33m.\u001b[0m\u001b[0m__private\u001b[0m\u001b[1;33m\u001b[0m\u001b[1;33m\u001b[0m\u001b[0m\n\u001b[0m",
      "\u001b[1;31mAttributeError\u001b[0m: 'Test' object has no attribute '__private'"
     ]
    }
   ],
   "source": [
    "class Test:\n",
    "    \n",
    "    def __init__(self):\n",
    "        self.__private = \"Don't change me\"\n",
    "        \n",
    "tst = Test()\n",
    "\n",
    "tst.__private"
   ]
  },
  {
   "cell_type": "markdown",
   "metadata": {},
   "source": [
    "Yes it is private, we can't access it, but.."
   ]
  },
  {
   "cell_type": "code",
   "execution_count": 10,
   "metadata": {},
   "outputs": [
    {
     "data": {
      "text/plain": [
       "'I have changed'"
      ]
     },
     "execution_count": 10,
     "metadata": {},
     "output_type": "execute_result"
    }
   ],
   "source": [
    "tst.__private = \"I have changed\"\n",
    "\n",
    "tst.__private"
   ]
  },
  {
   "cell_type": "code",
   "execution_count": 11,
   "metadata": {},
   "outputs": [
    {
     "data": {
      "text/plain": [
       "\"Don't change me\""
      ]
     },
     "execution_count": 11,
     "metadata": {},
     "output_type": "execute_result"
    }
   ],
   "source": [
    "tst._Test__private"
   ]
  },
  {
   "cell_type": "markdown",
   "metadata": {},
   "source": [
    "Let's see what's going on..? The `dir` function will list an object's properties and methods (including those inherited from the superclass<sup>2</sup>)\n",
    "\n",
    "2: Explained more fully later."
   ]
  },
  {
   "cell_type": "code",
   "execution_count": 12,
   "metadata": {},
   "outputs": [
    {
     "data": {
      "text/plain": [
       "['_Test__private',\n",
       " '__class__',\n",
       " '__delattr__',\n",
       " '__dict__',\n",
       " '__dir__',\n",
       " '__doc__',\n",
       " '__eq__',\n",
       " '__format__',\n",
       " '__ge__',\n",
       " '__getattribute__',\n",
       " '__gt__',\n",
       " '__hash__',\n",
       " '__init__',\n",
       " '__init_subclass__',\n",
       " '__le__',\n",
       " '__lt__',\n",
       " '__module__',\n",
       " '__ne__',\n",
       " '__new__',\n",
       " '__private',\n",
       " '__reduce__',\n",
       " '__reduce_ex__',\n",
       " '__repr__',\n",
       " '__setattr__',\n",
       " '__sizeof__',\n",
       " '__str__',\n",
       " '__subclasshook__',\n",
       " '__weakref__']"
      ]
     },
     "execution_count": 12,
     "metadata": {},
     "output_type": "execute_result"
    }
   ],
   "source": [
    "dir(tst)"
   ]
  },
  {
   "cell_type": "markdown",
   "metadata": {
    "tags": []
   },
   "source": [
    "This is an example of Python's _name mangling_, in this case it is being used to hide the private property. The upshot is that you don't really want to mess with private properties.\n",
    "\n",
    "The fact that in Python you can create a new property on-the-fly outside of the class definition (also works for methods) is called _Monkey Patching_.\n",
    "\n",
    "Now let us see how can modify the value property so that we can update it."
   ]
  },
  {
   "cell_type": "code",
   "execution_count": 13,
   "metadata": {},
   "outputs": [],
   "source": [
    "class TreeNode:\n",
    "    \"\"\"\n",
    "Using a binary tree structure as an example; where a tree is composed of nodes that may have zero, one or two child nodes.\n",
    "the class represents one node of the tree.\n",
    "    \"\"\"\n",
    "    def __init__(self,name,parent=None):\n",
    "        self.name = name\n",
    "        self.left = None\n",
    "        self.right = None\n",
    "        self.parent = parent #we keep track of the parent node so that we can traverse the tree in reverse\n",
    "        self._value = 42 #we've made this protected now\n",
    "\n",
    "    @property\n",
    "    def value(self): #an example method that doesn't really do much!\n",
    "        return self._value\n",
    "    \n",
    "    @value.setter\n",
    "    def value(self, newvalue):\n",
    "        #now we introduce some data validation...\n",
    "        if isinstance(newvalue, (int, float)) and not isinstance(newvalue, bool):\n",
    "            self._value = newvalue\n",
    "        else:\n",
    "            raise TypeError(\"'value' must be numeric!\")\n",
    "    \n",
    "    def __str__(self):\n",
    "        s = self.name\n",
    "        if self.left and self.right:\n",
    "            return s+'['+str(self.left)+','+str(self.right)+']'\n",
    "        if self.left:\n",
    "            return s+'['+str(self.left)+']'\n",
    "        if self.right:\n",
    "            return s+'['+str(self.right)+']'\n",
    "        return s\n"
   ]
  },
  {
   "cell_type": "code",
   "execution_count": 14,
   "metadata": {},
   "outputs": [
    {
     "ename": "TypeError",
     "evalue": "'value' must be numeric!",
     "output_type": "error",
     "traceback": [
      "\u001b[1;31m---------------------------------------------------------------------------\u001b[0m",
      "\u001b[1;31mTypeError\u001b[0m                                 Traceback (most recent call last)",
      "\u001b[1;32m<ipython-input-14-8a40bc3a198a>\u001b[0m in \u001b[0;36m<module>\u001b[1;34m\u001b[0m\n\u001b[0;32m      1\u001b[0m \u001b[0mnode\u001b[0m \u001b[1;33m=\u001b[0m \u001b[0mTreeNode\u001b[0m\u001b[1;33m(\u001b[0m\u001b[1;34m'Test'\u001b[0m\u001b[1;33m)\u001b[0m\u001b[1;33m\u001b[0m\u001b[1;33m\u001b[0m\u001b[0m\n\u001b[1;32m----> 2\u001b[1;33m \u001b[0mnode\u001b[0m\u001b[1;33m.\u001b[0m\u001b[0mvalue\u001b[0m \u001b[1;33m=\u001b[0m \u001b[1;34m'JustDoIt'\u001b[0m\u001b[1;33m\u001b[0m\u001b[1;33m\u001b[0m\u001b[0m\n\u001b[0m",
      "\u001b[1;32m<ipython-input-13-3bc3c6a0fa9c>\u001b[0m in \u001b[0;36mvalue\u001b[1;34m(self, newvalue)\u001b[0m\n\u001b[0;32m     21\u001b[0m             \u001b[0mself\u001b[0m\u001b[1;33m.\u001b[0m\u001b[0m_value\u001b[0m \u001b[1;33m=\u001b[0m \u001b[0mnewvalue\u001b[0m\u001b[1;33m\u001b[0m\u001b[1;33m\u001b[0m\u001b[0m\n\u001b[0;32m     22\u001b[0m         \u001b[1;32melse\u001b[0m\u001b[1;33m:\u001b[0m\u001b[1;33m\u001b[0m\u001b[1;33m\u001b[0m\u001b[0m\n\u001b[1;32m---> 23\u001b[1;33m             \u001b[1;32mraise\u001b[0m \u001b[0mTypeError\u001b[0m\u001b[1;33m(\u001b[0m\u001b[1;34m\"'value' must be numeric!\"\u001b[0m\u001b[1;33m)\u001b[0m\u001b[1;33m\u001b[0m\u001b[1;33m\u001b[0m\u001b[0m\n\u001b[0m\u001b[0;32m     24\u001b[0m \u001b[1;33m\u001b[0m\u001b[0m\n\u001b[0;32m     25\u001b[0m     \u001b[1;32mdef\u001b[0m \u001b[0m__str__\u001b[0m\u001b[1;33m(\u001b[0m\u001b[0mself\u001b[0m\u001b[1;33m)\u001b[0m\u001b[1;33m:\u001b[0m\u001b[1;33m\u001b[0m\u001b[1;33m\u001b[0m\u001b[0m\n",
      "\u001b[1;31mTypeError\u001b[0m: 'value' must be numeric!"
     ]
    }
   ],
   "source": [
    "node = TreeNode('Test')\n",
    "node.value = 'JustDoIt'"
   ]
  },
  {
   "cell_type": "code",
   "execution_count": 15,
   "metadata": {},
   "outputs": [],
   "source": [
    "node = TreeNode('Test')\n",
    "node.value = 3.14159"
   ]
  },
  {
   "cell_type": "markdown",
   "metadata": {},
   "source": [
    "Notice that by using the setter decorator we have been able to include some validation on the input - in this case the input type must be numeric.\n",
    "\n",
    "Perhaps a more useful use of the setter decorator is to enforce a *side effect*. Consider the need to set the parent property, currently we might do something like:\n",
    "\n",
    "```python\n",
    "p = TreeNode('P')\n",
    "p.left = TreeNode('LC')\n",
    "p.left.parent = p\n",
    "```\n",
    "    \n",
    "although we can shorten this to:\n",
    "\n",
    "```python\n",
    "p = TreeNode('P')\n",
    "p.left = TreeNode('LC',p)\n",
    "```\n",
    "    \n",
    "It is possible that the user may forget to set the parent property. We can fix this as follows:"
   ]
  },
  {
   "cell_type": "code",
   "execution_count": 16,
   "metadata": {},
   "outputs": [],
   "source": [
    "class TreeNode:\n",
    "    \"\"\"\n",
    "Using a binary tree structure as an example; where a tree is composed of nodes that may have zero, one or two child nodes.\n",
    "the class represents one node of the tree.\n",
    "    \"\"\"\n",
    "    def __init__(self,name,parent=None):\n",
    "        self.name = name\n",
    "        self._left = None\n",
    "        self._right = None\n",
    "        self.parent = parent #we keep track of the parent node so that we can traverse the tree in reverse\n",
    "        self._value = 42 #we've made this protected now\n",
    "        \n",
    "    @property\n",
    "    def left(self):\n",
    "        return self._left\n",
    "    \n",
    "    @left.setter\n",
    "    def left(self,child):\n",
    "        self._left = child\n",
    "        if child is None:\n",
    "            return\n",
    "        child.parent = self\n",
    "        \n",
    "    @property\n",
    "    def right(self):\n",
    "        return self._right\n",
    "    \n",
    "    @right.setter\n",
    "    def right(self,child):\n",
    "        self._right = child\n",
    "        if child is None:\n",
    "            return\n",
    "        child.parent = self\n",
    "\n",
    "    @property\n",
    "    def value(self): #an example method that doesn't really do much!\n",
    "        return self._value\n",
    "    \n",
    "    @value.setter\n",
    "    def value(self, newvalue):\n",
    "        #now we introduce some data validation...\n",
    "        if isinstance(newvalue, (int, float)) and not isinstance(newvalue, bool):\n",
    "            self._value = newvalue\n",
    "        else:\n",
    "            raise TypeError(\"'value' must be numeric!\")\n",
    "    \n",
    "    def __str__(self):\n",
    "        s = self.name\n",
    "        if self.left and self.right:\n",
    "            return s+'['+str(self.left)+','+str(self.right)+']'\n",
    "        if self.left:\n",
    "            return s+'['+str(self.left)+']'\n",
    "        if self.right:\n",
    "            return s+'['+str(self.right)+']'\n",
    "        return s\n"
   ]
  },
  {
   "cell_type": "code",
   "execution_count": 17,
   "metadata": {},
   "outputs": [
    {
     "data": {
      "text/plain": [
       "True"
      ]
     },
     "execution_count": 17,
     "metadata": {},
     "output_type": "execute_result"
    }
   ],
   "source": [
    "p = TreeNode('P')\n",
    "p.left = TreeNode('C')\n",
    "p.left.parent is p"
   ]
  },
  {
   "cell_type": "markdown",
   "metadata": {},
   "source": [
    "### Aside: Graphviz, a package for plot graph structures\n",
    "\n",
    "install: *conda install python-graphviz* or use analogous pip command."
   ]
  },
  {
   "cell_type": "code",
   "execution_count": 18,
   "metadata": {},
   "outputs": [],
   "source": [
    "from graphviz import Digraph\n",
    "\n",
    "dot = Digraph()\n",
    "dot.node('A',shape='box',fillcolor='yellow',style='filled')\n",
    "dot.node('B')\n",
    "dot.node('C')\n",
    "dot.edge('A','B')\n",
    "dot.edge('A','C')\n",
    "dot.edge('B','C')\n",
    "dot.edge('C','C')"
   ]
  },
  {
   "cell_type": "code",
   "execution_count": 19,
   "metadata": {},
   "outputs": [
    {
     "data": {
      "image/svg+xml": [
       "<?xml version=\"1.0\" encoding=\"UTF-8\" standalone=\"no\"?>\r\n",
       "<!DOCTYPE svg PUBLIC \"-//W3C//DTD SVG 1.1//EN\"\r\n",
       " \"http://www.w3.org/Graphics/SVG/1.1/DTD/svg11.dtd\">\r\n",
       "<!-- Generated by graphviz version 2.41.20170921.1950 (20170921.1950)\r\n",
       " -->\r\n",
       "<!-- Title: %3 Pages: 1 -->\r\n",
       "<svg width=\"107pt\" height=\"188pt\"\r\n",
       " viewBox=\"0.00 0.00 107.00 188.00\" xmlns=\"http://www.w3.org/2000/svg\" xmlns:xlink=\"http://www.w3.org/1999/xlink\">\r\n",
       "<g id=\"graph0\" class=\"graph\" transform=\"scale(1 1) rotate(0) translate(4 184)\">\r\n",
       "<title>%3</title>\r\n",
       "<polygon fill=\"white\" stroke=\"transparent\" points=\"-4,4 -4,-184 103,-184 103,4 -4,4\"/>\r\n",
       "<!-- A -->\r\n",
       "<g id=\"node1\" class=\"node\">\r\n",
       "<title>A</title>\r\n",
       "<polygon fill=\"yellow\" stroke=\"black\" points=\"81,-180 27,-180 27,-144 81,-144 81,-180\"/>\r\n",
       "<text text-anchor=\"middle\" x=\"54\" y=\"-158.3\" font-family=\"Times New Roman,serif\" font-size=\"14.00\">A</text>\r\n",
       "</g>\r\n",
       "<!-- B -->\r\n",
       "<g id=\"node2\" class=\"node\">\r\n",
       "<title>B</title>\r\n",
       "<ellipse fill=\"none\" stroke=\"black\" cx=\"27\" cy=\"-90\" rx=\"27\" ry=\"18\"/>\r\n",
       "<text text-anchor=\"middle\" x=\"27\" y=\"-86.3\" font-family=\"Times New Roman,serif\" font-size=\"14.00\">B</text>\r\n",
       "</g>\r\n",
       "<!-- A&#45;&gt;B -->\r\n",
       "<g id=\"edge1\" class=\"edge\">\r\n",
       "<title>A&#45;&gt;B</title>\r\n",
       "<path fill=\"none\" stroke=\"black\" d=\"M47.33,-143.7C44.24,-135.7 40.51,-126.02 37.09,-117.15\"/>\r\n",
       "<polygon fill=\"black\" stroke=\"black\" points=\"40.28,-115.69 33.41,-107.62 33.74,-118.21 40.28,-115.69\"/>\r\n",
       "</g>\r\n",
       "<!-- C -->\r\n",
       "<g id=\"node3\" class=\"node\">\r\n",
       "<title>C</title>\r\n",
       "<ellipse fill=\"none\" stroke=\"black\" cx=\"54\" cy=\"-18\" rx=\"27\" ry=\"18\"/>\r\n",
       "<text text-anchor=\"middle\" x=\"54\" y=\"-14.3\" font-family=\"Times New Roman,serif\" font-size=\"14.00\">C</text>\r\n",
       "</g>\r\n",
       "<!-- A&#45;&gt;C -->\r\n",
       "<g id=\"edge2\" class=\"edge\">\r\n",
       "<title>A&#45;&gt;C</title>\r\n",
       "<path fill=\"none\" stroke=\"black\" d=\"M57.65,-143.91C59.68,-133.57 61.98,-120.09 63,-108 64.34,-92.06 64.34,-87.94 63,-72 62.28,-63.5 60.93,-54.31 59.49,-46.01\"/>\r\n",
       "<polygon fill=\"black\" stroke=\"black\" points=\"62.91,-45.29 57.65,-36.09 56.03,-46.56 62.91,-45.29\"/>\r\n",
       "</g>\r\n",
       "<!-- B&#45;&gt;C -->\r\n",
       "<g id=\"edge3\" class=\"edge\">\r\n",
       "<title>B&#45;&gt;C</title>\r\n",
       "<path fill=\"none\" stroke=\"black\" d=\"M33.4,-72.41C36.51,-64.34 40.33,-54.43 43.83,-45.35\"/>\r\n",
       "<polygon fill=\"black\" stroke=\"black\" points=\"47.13,-46.55 47.46,-35.96 40.6,-44.03 47.13,-46.55\"/>\r\n",
       "</g>\r\n",
       "<!-- C&#45;&gt;C -->\r\n",
       "<g id=\"edge4\" class=\"edge\">\r\n",
       "<title>C&#45;&gt;C</title>\r\n",
       "<path fill=\"none\" stroke=\"black\" d=\"M73.9,-30.43C86.69,-33.68 99,-29.53 99,-18 99,-9.62 92.5,-5.14 84.04,-4.56\"/>\r\n",
       "<polygon fill=\"black\" stroke=\"black\" points=\"83.5,-1.1 73.9,-5.57 84.19,-8.07 83.5,-1.1\"/>\r\n",
       "</g>\r\n",
       "</g>\r\n",
       "</svg>\r\n"
      ],
      "text/plain": [
       "<graphviz.dot.Digraph at 0x2092b7accc8>"
      ]
     },
     "execution_count": 19,
     "metadata": {},
     "output_type": "execute_result"
    }
   ],
   "source": [
    "dot"
   ]
  },
  {
   "cell_type": "markdown",
   "metadata": {},
   "source": [
    "## Leveraging GraphViz to render our custom trees\n",
    "\n",
    "Notice that GraphViz uses the _name_ as a unique identifier; we will therefore implement a unique identifier for each node. We will use a _class property_ to keep track of the UIDs created. Similarly, we can have `@classmethod` which we have used to fetch the next UID. Notice that the class method's first parameter is `cls` rather than `self` - it is a reference to this class rather than a specific instance.\n",
    "\n",
    "We generate the graph to be plotted using a recursive helper function which for illustration has been defined as a `@staticmethod`. A static method is one that does not depend on the instance i.e. it does not require `_self_`. In this case we could have just used a normal method...\n",
    "\n",
    "Code adapted from: https://h1ros.github.io/posts/introduction-to-graphviz-in-jupyter-notebook/"
   ]
  },
  {
   "cell_type": "code",
   "execution_count": 20,
   "metadata": {},
   "outputs": [],
   "source": [
    "class TreeNode:\n",
    "    \"\"\"\n",
    "Using a binary tree structure as an example; where a tree is composed of nodes that may have zero, one or two child nodes.\n",
    "the class represents one node of the tree.\n",
    "    \"\"\"\n",
    "    \n",
    "    \n",
    "    nextUID = 1\n",
    "    \n",
    "    @classmethod\n",
    "    def getUID(cls):\n",
    "        uid = cls.nextUID\n",
    "        cls.nextUID += 1\n",
    "        return uid\n",
    "        \n",
    "    \n",
    "    def __init__(self,name,parent=None):\n",
    "        self.name = name\n",
    "        self.left = None\n",
    "        self.right = None\n",
    "        self.parent = parent #we keep track of the parent node so that we can traverse the tree in reverse\n",
    "        self._value = 42 #we've made this protected now\n",
    "        self._uid = str(TreeNode.getUID())\n",
    "\n",
    "        \n",
    "    @property\n",
    "    def left(self):\n",
    "        return self._left\n",
    "    \n",
    "    @left.setter\n",
    "    def left(self,child):\n",
    "        self._left = child\n",
    "        if child is None:\n",
    "            return\n",
    "        child.parent = self\n",
    "        \n",
    "    @property\n",
    "    def right(self):\n",
    "        return self._right\n",
    "    \n",
    "    @right.setter\n",
    "    def right(self,child):\n",
    "        self._right = child\n",
    "        if child is None:\n",
    "            return\n",
    "        child.parent = self\n",
    "        \n",
    "    @property\n",
    "    def value(self): #an example method that doesn't really do much!\n",
    "        return self._value\n",
    "    \n",
    "    @value.setter\n",
    "    def value(self, newvalue):\n",
    "        #now we introduce some data validation...\n",
    "        if isinstance(newvalue, (int, float)) and not isinstance(newvalue, bool):\n",
    "            self._value = newvalue\n",
    "        else:\n",
    "            raise TypeError(\"'value' must be numeric!\")\n",
    "            \n",
    "    @staticmethod\n",
    "    def add_nodes_edges(tree, dot=None):\n",
    "        # Create Digraph object\n",
    "        if dot is None:\n",
    "            dot = Digraph()\n",
    "            dot.node(name=tree._uid, label=tree.name,style='filled',fillcolor='yellow')\n",
    "\n",
    "        # Add nodes\n",
    "        if tree.left:\n",
    "            dot.node(name=tree.left._uid, label=tree.left.name)\n",
    "            dot.edge(tree._uid, tree.left._uid)\n",
    "            dot = tree.add_nodes_edges(tree.left, dot=dot)\n",
    "\n",
    "        if tree.right:\n",
    "            dot.node(name=tree.right._uid ,label=tree.right.name)\n",
    "            dot.edge(tree._uid, tree.right._uid)\n",
    "            dot = tree.add_nodes_edges(tree.right, dot=dot)\n",
    "\n",
    "        return dot\n",
    "    \n",
    "    def plot(self):\n",
    "        # Add nodes recursively and create a list of edges\n",
    "        dot = TreeNode.add_nodes_edges(self)\n",
    "        return dot\n",
    "    \n",
    "    def __str__(self):\n",
    "        s = self.name\n",
    "        if self.left and self.right:\n",
    "            return s+'['+str(self.left)+','+str(self.right)+']'\n",
    "        if self.left:\n",
    "            return s+'['+str(self.left)+']'\n",
    "        if self.right:\n",
    "            return s+'['+str(self.right)+']'\n",
    "        return s\n"
   ]
  },
  {
   "cell_type": "code",
   "execution_count": 21,
   "metadata": {},
   "outputs": [
    {
     "data": {
      "image/svg+xml": [
       "<?xml version=\"1.0\" encoding=\"UTF-8\" standalone=\"no\"?>\r\n",
       "<!DOCTYPE svg PUBLIC \"-//W3C//DTD SVG 1.1//EN\"\r\n",
       " \"http://www.w3.org/Graphics/SVG/1.1/DTD/svg11.dtd\">\r\n",
       "<!-- Generated by graphviz version 2.41.20170921.1950 (20170921.1950)\r\n",
       " -->\r\n",
       "<!-- Title: %3 Pages: 1 -->\r\n",
       "<svg width=\"189pt\" height=\"188pt\"\r\n",
       " viewBox=\"0.00 0.00 189.19 188.00\" xmlns=\"http://www.w3.org/2000/svg\" xmlns:xlink=\"http://www.w3.org/1999/xlink\">\r\n",
       "<g id=\"graph0\" class=\"graph\" transform=\"scale(1 1) rotate(0) translate(4 184)\">\r\n",
       "<title>%3</title>\r\n",
       "<polygon fill=\"white\" stroke=\"transparent\" points=\"-4,4 -4,-184 185.19,-184 185.19,4 -4,4\"/>\r\n",
       "<!-- 1 -->\r\n",
       "<g id=\"node1\" class=\"node\">\r\n",
       "<title>1</title>\r\n",
       "<ellipse fill=\"yellow\" stroke=\"black\" cx=\"82.15\" cy=\"-162\" rx=\"33.29\" ry=\"18\"/>\r\n",
       "<text text-anchor=\"middle\" x=\"82.15\" y=\"-158.3\" font-family=\"Times New Roman,serif\" font-size=\"14.00\">Parrot</text>\r\n",
       "</g>\r\n",
       "<!-- 2 -->\r\n",
       "<g id=\"node2\" class=\"node\">\r\n",
       "<title>2</title>\r\n",
       "<ellipse fill=\"none\" stroke=\"black\" cx=\"33.15\" cy=\"-90\" rx=\"29.8\" ry=\"18\"/>\r\n",
       "<text text-anchor=\"middle\" x=\"33.15\" y=\"-86.3\" font-family=\"Times New Roman,serif\" font-size=\"14.00\">Dead</text>\r\n",
       "</g>\r\n",
       "<!-- 1&#45;&gt;2 -->\r\n",
       "<g id=\"edge1\" class=\"edge\">\r\n",
       "<title>1&#45;&gt;2</title>\r\n",
       "<path fill=\"none\" stroke=\"black\" d=\"M70.78,-144.76C64.72,-136.11 57.14,-125.27 50.37,-115.6\"/>\r\n",
       "<polygon fill=\"black\" stroke=\"black\" points=\"53.05,-113.33 44.45,-107.15 47.32,-117.35 53.05,-113.33\"/>\r\n",
       "</g>\r\n",
       "<!-- 3 -->\r\n",
       "<g id=\"node4\" class=\"node\">\r\n",
       "<title>3</title>\r\n",
       "<ellipse fill=\"none\" stroke=\"black\" cx=\"131.15\" cy=\"-90\" rx=\"50.09\" ry=\"18\"/>\r\n",
       "<text text-anchor=\"middle\" x=\"131.15\" y=\"-86.3\" font-family=\"Times New Roman,serif\" font-size=\"14.00\">Norwegian</text>\r\n",
       "</g>\r\n",
       "<!-- 1&#45;&gt;3 -->\r\n",
       "<g id=\"edge3\" class=\"edge\">\r\n",
       "<title>1&#45;&gt;3</title>\r\n",
       "<path fill=\"none\" stroke=\"black\" d=\"M93.51,-144.76C99.49,-136.23 106.94,-125.58 113.63,-116.02\"/>\r\n",
       "<polygon fill=\"black\" stroke=\"black\" points=\"116.64,-117.83 119.5,-107.63 110.9,-113.82 116.64,-117.83\"/>\r\n",
       "</g>\r\n",
       "<!-- 5 -->\r\n",
       "<g id=\"node3\" class=\"node\">\r\n",
       "<title>5</title>\r\n",
       "<ellipse fill=\"none\" stroke=\"black\" cx=\"33.15\" cy=\"-18\" rx=\"33.29\" ry=\"18\"/>\r\n",
       "<text text-anchor=\"middle\" x=\"33.15\" y=\"-14.3\" font-family=\"Times New Roman,serif\" font-size=\"14.00\">Parrot</text>\r\n",
       "</g>\r\n",
       "<!-- 2&#45;&gt;5 -->\r\n",
       "<g id=\"edge2\" class=\"edge\">\r\n",
       "<title>2&#45;&gt;5</title>\r\n",
       "<path fill=\"none\" stroke=\"black\" d=\"M33.15,-71.7C33.15,-63.98 33.15,-54.71 33.15,-46.11\"/>\r\n",
       "<polygon fill=\"black\" stroke=\"black\" points=\"36.65,-46.1 33.15,-36.1 29.65,-46.1 36.65,-46.1\"/>\r\n",
       "</g>\r\n",
       "<!-- 4 -->\r\n",
       "<g id=\"node5\" class=\"node\">\r\n",
       "<title>4</title>\r\n",
       "<ellipse fill=\"none\" stroke=\"black\" cx=\"131.15\" cy=\"-18\" rx=\"27\" ry=\"18\"/>\r\n",
       "<text text-anchor=\"middle\" x=\"131.15\" y=\"-14.3\" font-family=\"Times New Roman,serif\" font-size=\"14.00\">Blue</text>\r\n",
       "</g>\r\n",
       "<!-- 3&#45;&gt;4 -->\r\n",
       "<g id=\"edge4\" class=\"edge\">\r\n",
       "<title>3&#45;&gt;4</title>\r\n",
       "<path fill=\"none\" stroke=\"black\" d=\"M131.15,-71.7C131.15,-63.98 131.15,-54.71 131.15,-46.11\"/>\r\n",
       "<polygon fill=\"black\" stroke=\"black\" points=\"134.65,-46.1 131.15,-36.1 127.65,-46.1 134.65,-46.1\"/>\r\n",
       "</g>\r\n",
       "</g>\r\n",
       "</svg>\r\n"
      ],
      "text/plain": [
       "<graphviz.dot.Digraph at 0x2092b8487c8>"
      ]
     },
     "execution_count": 21,
     "metadata": {},
     "output_type": "execute_result"
    }
   ],
   "source": [
    "nd1 = TreeNode('Parrot')\n",
    "nd1.left = TreeNode('Dead')\n",
    "nd1.right = TreeNode('Norwegian')\n",
    "nd1.right.right = TreeNode('Blue')\n",
    "nd1.left.right = TreeNode('Parrot')\n",
    "nd1.plot()"
   ]
  },
  {
   "cell_type": "markdown",
   "metadata": {},
   "source": [
    "We access class properties using either instance, or perhaps more clearly, using the class:"
   ]
  },
  {
   "cell_type": "code",
   "execution_count": 22,
   "metadata": {},
   "outputs": [
    {
     "data": {
      "text/plain": [
       "6"
      ]
     },
     "execution_count": 22,
     "metadata": {},
     "output_type": "execute_result"
    }
   ],
   "source": [
    "nd1.nextUID"
   ]
  },
  {
   "cell_type": "code",
   "execution_count": 23,
   "metadata": {},
   "outputs": [
    {
     "data": {
      "text/plain": [
       "6"
      ]
     },
     "execution_count": 23,
     "metadata": {},
     "output_type": "execute_result"
    }
   ],
   "source": [
    "TreeNode.nextUID"
   ]
  },
  {
   "cell_type": "markdown",
   "metadata": {},
   "source": [
    "For simplicity, we draw the links as single arrows, although in reality they should be double arrows because of the link from *child* to *parent* via the `parent` property."
   ]
  },
  {
   "cell_type": "markdown",
   "metadata": {},
   "source": [
    "## To be continued..."
   ]
  }
 ],
 "metadata": {
  "kernelspec": {
   "display_name": "bp37",
   "language": "python",
   "name": "bp37"
  },
  "language_info": {
   "codemirror_mode": {
    "name": "ipython",
    "version": 3
   },
   "file_extension": ".py",
   "mimetype": "text/x-python",
   "name": "python",
   "nbconvert_exporter": "python",
   "pygments_lexer": "ipython3",
   "version": "3.7.7"
  }
 },
 "nbformat": 4,
 "nbformat_minor": 4
}
